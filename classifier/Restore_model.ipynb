{
 "cells": [
  {
   "cell_type": "code",
   "execution_count": 1,
   "metadata": {},
   "outputs": [],
   "source": [
    "import matplotlib.pyplot as plt\n",
    "import cv2\n",
    "%matplotlib inline"
   ]
  },
  {
   "cell_type": "code",
   "execution_count": 1,
   "metadata": {},
   "outputs": [],
   "source": [
    "import glob\n",
    "import tensorflow as tf\n",
    "import numpy as np\n",
    "import pickle"
   ]
  },
  {
   "cell_type": "code",
   "execution_count": 2,
   "metadata": {},
   "outputs": [
    {
     "name": "stdout",
     "output_type": "stream",
     "text": [
      "Train shape: \n",
      "(3, 600, 800, 3)\n",
      "(3,)\n"
     ]
    }
   ],
   "source": [
    "with open('dataset_tl_small.pickle', 'rb') as f:\n",
    "    (X_train_3, Y_train_3) = pickle.load(f)\n",
    "print(\"Train shape: \")\n",
    "print(X_train_3.shape)\n",
    "print(Y_train_3.shape)\n",
    "Class_names = [\"RED\",\"UNKNOWN\", \"GREEN\"]"
   ]
  },
  {
   "cell_type": "code",
   "execution_count": 3,
   "metadata": {},
   "outputs": [
    {
     "name": "stdout",
     "output_type": "stream",
     "text": [
      "INFO:tensorflow:Restoring parameters from ./lenet\n"
     ]
    }
   ],
   "source": [
    "sess=tf.Session(config=tf.ConfigProto(gpu_options=tf.GPUOptions(per_process_gpu_memory_fraction=0.25)))\n",
    "saver=tf.train.import_meta_graph('lenet.meta')\n",
    "saver.restore(sess, tf.train.latest_checkpoint('./'))\n",
    "\n",
    "graph = tf.get_default_graph()\n",
    "x = graph.get_tensor_by_name(\"input_image:0\")\n",
    "#y = graph.get_tensor_by_name(\"correct_class:0\")\n",
    "keep_prob = graph.get_tensor_by_name(\"keep_prob:0\")\n",
    "output_value = graph.get_tensor_by_name(\"output:0\")\n",
    "#cross_entropy = graph.get_tensor_by_name(\"cross_entropy:0\")\n",
    "#feed_dict = {input_image_graph: X_train_3[0:1], keep_prob_graph: 1.0}\n"
   ]
  },
  {
   "cell_type": "code",
   "execution_count": 4,
   "metadata": {},
   "outputs": [
    {
     "name": "stdout",
     "output_type": "stream",
     "text": [
      "Real =  UNKNOWN Predicted =  RED\n",
      "Real =  GREEN Predicted =  RED\n",
      "0.33333333333333337\n"
     ]
    }
   ],
   "source": [
    "incorrect = 0\n",
    "for i in range(X_train_3.shape[0]):\n",
    "    predictions = sess.run(output_value, feed_dict = {x: X_train_3[0:1], keep_prob: 1.0})\n",
    "    if(predictions[0] != Y_train_3[i]):            \n",
    "        incorrect += 1\n",
    "        print(\"Real = \", Class_names[int(Y_train_3[i])] , \"Predicted = \", Class_names[predictions[0]])\n",
    "        #newimg2 = cv2.cvtColor(X_train_3[i], cv2.COLOR_RGB2BGR);\n",
    "        #plt.figure(figsize=(5,5))\n",
    "        #plt.imshow(newimg2)\n",
    "        #plt.show()\n",
    "        \n",
    "right_percent = 1.0 - incorrect / Y_train_3.shape[0]\n",
    "print(right_percent)"
   ]
  },
  {
   "cell_type": "code",
   "execution_count": null,
   "metadata": {},
   "outputs": [],
   "source": []
  }
 ],
 "metadata": {
  "kernelspec": {
   "display_name": "Python 3",
   "language": "python",
   "name": "python3"
  },
  "language_info": {
   "codemirror_mode": {
    "name": "ipython",
    "version": 3
   },
   "file_extension": ".py",
   "mimetype": "text/x-python",
   "name": "python",
   "nbconvert_exporter": "python",
   "pygments_lexer": "ipython3",
   "version": "3.5.2"
  }
 },
 "nbformat": 4,
 "nbformat_minor": 2
}
